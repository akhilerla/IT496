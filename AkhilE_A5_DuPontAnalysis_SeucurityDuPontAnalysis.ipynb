{
  "nbformat": 4,
  "nbformat_minor": 0,
  "metadata": {
    "colab": {
      "name": "AkhilE-A5-DuPontAnalysis-SeucurityDuPontAnalysis.ipynb",
      "provenance": [],
      "authorship_tag": "ABX9TyNLR4zZH/FNC8Wh9ZmL2jTt",
      "include_colab_link": true
    },
    "kernelspec": {
      "name": "python3",
      "display_name": "Python 3"
    },
    "language_info": {
      "name": "python"
    }
  },
  "cells": [
    {
      "cell_type": "markdown",
      "metadata": {
        "id": "view-in-github",
        "colab_type": "text"
      },
      "source": [
        "<a href=\"https://colab.research.google.com/github/akhilerla/IT496/blob/main/AkhilE_A5_DuPontAnalysis_SeucurityDuPontAnalysis.ipynb\" target=\"_parent\"><img src=\"https://colab.research.google.com/assets/colab-badge.svg\" alt=\"Open In Colab\"/></a>"
      ]
    },
    {
      "cell_type": "code",
      "execution_count": 1,
      "metadata": {
        "id": "bswpZ2JThXoz"
      },
      "outputs": [],
      "source": [
        "import requests\n",
        "import pandas as pd\n",
        "import matplotlib.pyplot as plt\n",
        "myAPIKey = 'bd9821e7f65af730136944c623b76088'\n",
        "stock =\"MSFT\"\n",
        "balanceStatements = requests.get (f\"https://financialmodelingprep.com/api/v3/balance-sheet-statement/{stock}?apikey={myAPIKey}\").json()\n",
        "incomeStatements= requests.get(f\"https://financialmodelingprep.com/api/v3/income-statement/{stock}?apikey={myAPIKey}\").json()\n"
      ]
    },
    {
      "cell_type": "code",
      "source": [
        "print (balanceStatements[:5])"
      ],
      "metadata": {
        "colab": {
          "base_uri": "https://localhost:8080/"
        },
        "id": "8knQpS5PlaB9",
        "outputId": "29dbf338-a64f-47c8-c523-d66931e8b0d7"
      },
      "execution_count": 2,
      "outputs": [
        {
          "output_type": "stream",
          "name": "stdout",
          "text": [
            "[{'date': '2021-06-30', 'symbol': 'MSFT', 'reportedCurrency': 'USD', 'cik': '0000789019', 'fillingDate': '2021-07-29', 'acceptedDate': '2021-07-29 16:21:55', 'calendarYear': '2021', 'period': 'FY', 'cashAndCashEquivalents': 11748000000, 'shortTermInvestments': 118586000000, 'cashAndShortTermInvestments': 130334000000, 'netReceivables': 38043000000, 'inventory': 2636000000, 'otherCurrentAssets': 13393000000, 'totalCurrentAssets': 184406000000, 'propertyPlantEquipmentNet': 70803000000, 'goodwill': 49711000000, 'intangibleAssets': 7800000000, 'goodwillAndIntangibleAssets': 57511000000, 'longTermInvestments': 5984000000, 'taxAssets': 0.0, 'otherNonCurrentAssets': 15075000000, 'totalNonCurrentAssets': 149373000000, 'otherAssets': 0.0, 'totalAssets': 333779000000, 'accountPayables': 15163000000, 'shortTermDebt': 8072000000, 'taxPayables': 2174000000, 'deferredRevenue': 41525000000, 'otherCurrentLiabilities': 23897000000, 'totalCurrentLiabilities': 88657000000, 'longTermDebt': 59703000000, 'deferredRevenueNonCurrent': 2616000000, 'deferredTaxLiabilitiesNonCurrent': 198000000, 'otherNonCurrentLiabilities': 40617000000, 'totalNonCurrentLiabilities': 103134000000, 'otherLiabilities': 0.0, 'capitalLeaseObligations': 9629000000, 'totalLiabilities': 191791000000, 'preferredStock': 0.0, 'commonStock': 83111000000, 'retainedEarnings': 57055000000, 'accumulatedOtherComprehensiveIncomeLoss': 1822000000, 'othertotalStockholdersEquity': 0.0, 'totalStockholdersEquity': 141988000000, 'totalLiabilitiesAndStockholdersEquity': 333779000000, 'minorityInterest': 0, 'totalEquity': 141988000000, 'totalLiabilitiesAndTotalEquity': 333779000000, 'totalInvestments': 124570000000, 'totalDebt': 67775000000, 'netDebt': 56027000000, 'link': 'https://www.sec.gov/Archives/edgar/data/789019/000156459021039151/0001564590-21-039151-index.htm', 'finalLink': 'https://www.sec.gov/Archives/edgar/data/789019/000156459021039151/msft-10k_20210630.htm'}, {'date': '2020-06-30', 'symbol': 'MSFT', 'reportedCurrency': 'USD', 'cik': '0000789019', 'fillingDate': '2020-07-30', 'acceptedDate': '2020-07-30 20:44:46', 'calendarYear': '2020', 'period': 'FY', 'cashAndCashEquivalents': 13576000000, 'shortTermInvestments': 122951000000, 'cashAndShortTermInvestments': 136527000000, 'netReceivables': 32011000000, 'inventory': 1895000000, 'otherCurrentAssets': 11482000000, 'totalCurrentAssets': 181915000000, 'propertyPlantEquipmentNet': 52904000000, 'goodwill': 43351000000, 'intangibleAssets': 7038000000, 'goodwillAndIntangibleAssets': 50389000000, 'longTermInvestments': 2965000000, 'taxAssets': 0.0, 'otherNonCurrentAssets': 13138000000, 'totalNonCurrentAssets': 119396000000, 'otherAssets': 0.0, 'totalAssets': 301311000000, 'accountPayables': 12530000000, 'shortTermDebt': 3749000000, 'taxPayables': 2130000000, 'deferredRevenue': 36000000000, 'otherCurrentLiabilities': 20031000000, 'totalCurrentLiabilities': 72310000000, 'longTermDebt': 67249000000, 'deferredRevenueNonCurrent': 3180000000, 'deferredTaxLiabilitiesNonCurrent': 204000000, 'otherNonCurrentLiabilities': 40064000000, 'totalNonCurrentLiabilities': 110697000000, 'otherLiabilities': 0.0, 'capitalLeaseObligations': 7671000000, 'totalLiabilities': 183007000000, 'preferredStock': 0.0, 'commonStock': 80552000000, 'retainedEarnings': 34566000000, 'accumulatedOtherComprehensiveIncomeLoss': 3186000000, 'othertotalStockholdersEquity': 0.0, 'totalStockholdersEquity': 118304000000, 'totalLiabilitiesAndStockholdersEquity': 301311000000, 'minorityInterest': 0, 'totalEquity': 118304000000, 'totalLiabilitiesAndTotalEquity': 301311000000, 'totalInvestments': 125916000000, 'totalDebt': 70998000000, 'netDebt': 57422000000, 'link': 'https://www.sec.gov/Archives/edgar/data/789019/000156459020034944/0001564590-20-034944-index.htm', 'finalLink': 'https://www.sec.gov/Archives/edgar/data/789019/000156459020034944/msft-10k_20200630.htm'}, {'date': '2019-06-30', 'symbol': 'MSFT', 'reportedCurrency': 'USD', 'cik': '0000789019', 'fillingDate': '2019-08-01', 'acceptedDate': '2019-08-01 16:09:55', 'calendarYear': '2019', 'period': 'FY', 'cashAndCashEquivalents': 11356000000, 'shortTermInvestments': 122463000000, 'cashAndShortTermInvestments': 133819000000, 'netReceivables': 29524000000, 'inventory': 2063000000, 'otherCurrentAssets': 10146000000, 'totalCurrentAssets': 175552000000, 'propertyPlantEquipmentNet': 43856000000, 'goodwill': 42026000000, 'intangibleAssets': 7750000000, 'goodwillAndIntangibleAssets': 49776000000, 'longTermInvestments': 2649000000, 'taxAssets': 0.0, 'otherNonCurrentAssets': 14723000000, 'totalNonCurrentAssets': 111004000000, 'otherAssets': 0.0, 'totalAssets': 286556000000, 'accountPayables': 9382000000, 'shortTermDebt': 5516000000, 'taxPayables': 5665000000, 'deferredRevenue': 32676000000, 'otherCurrentLiabilities': 21846000000, 'totalCurrentLiabilities': 69420000000, 'longTermDebt': 72850000000, 'deferredRevenueNonCurrent': 4530000000, 'deferredTaxLiabilitiesNonCurrent': 233000000, 'otherNonCurrentLiabilities': 37193000000, 'totalNonCurrentLiabilities': 114806000000, 'otherLiabilities': 0.0, 'capitalLeaseObligations': 6188000000, 'totalLiabilities': 184226000000, 'preferredStock': 0.0, 'commonStock': 78520000000, 'retainedEarnings': 24150000000, 'accumulatedOtherComprehensiveIncomeLoss': -340000000, 'othertotalStockholdersEquity': 0.0, 'totalStockholdersEquity': 102330000000, 'totalLiabilitiesAndStockholdersEquity': 286556000000, 'minorityInterest': 0, 'totalEquity': 102330000000, 'totalLiabilitiesAndTotalEquity': 286556000000, 'totalInvestments': 125112000000, 'totalDebt': 78366000000, 'netDebt': 67010000000, 'link': 'https://www.sec.gov/Archives/edgar/data/789019/000156459019027952/0001564590-19-027952-index.htm', 'finalLink': 'https://www.sec.gov/Archives/edgar/data/789019/000156459019027952/msft-10k_20190630.htm'}, {'date': '2018-06-30', 'symbol': 'MSFT', 'reportedCurrency': 'USD', 'cik': '0000789019', 'fillingDate': '2018-08-03', 'acceptedDate': '2018-08-03 11:03:33', 'calendarYear': '2018', 'period': 'FY', 'cashAndCashEquivalents': 11946000000, 'shortTermInvestments': 121822000000, 'cashAndShortTermInvestments': 133768000000, 'netReceivables': 26481000000, 'inventory': 2662000000, 'otherCurrentAssets': 6751000000, 'totalCurrentAssets': 169662000000, 'propertyPlantEquipmentNet': 36146000000, 'goodwill': 35683000000, 'intangibleAssets': 8053000000, 'goodwillAndIntangibleAssets': 43736000000, 'longTermInvestments': 1862000000, 'taxAssets': 0.0, 'otherNonCurrentAssets': 7442000000, 'totalNonCurrentAssets': 89186000000, 'otherAssets': 0.0, 'totalAssets': 258848000000, 'accountPayables': 8617000000, 'shortTermDebt': 3998000000, 'taxPayables': 2121000000, 'deferredRevenue': 28905000000, 'otherCurrentLiabilities': 16968000000, 'totalCurrentLiabilities': 58488000000, 'longTermDebt': 77810000000, 'deferredRevenueNonCurrent': 3815000000, 'deferredTaxLiabilitiesNonCurrent': 541000000, 'otherNonCurrentLiabilities': 35476000000, 'totalNonCurrentLiabilities': 117642000000, 'otherLiabilities': 0.0, 'capitalLeaseObligations': 5568000000, 'totalLiabilities': 176130000000, 'preferredStock': 0.0, 'commonStock': 71223000000, 'retainedEarnings': 13682000000, 'accumulatedOtherComprehensiveIncomeLoss': -2187000000, 'othertotalStockholdersEquity': 0.0, 'totalStockholdersEquity': 82718000000, 'totalLiabilitiesAndStockholdersEquity': 258848000000, 'minorityInterest': 0, 'totalEquity': 82718000000, 'totalLiabilitiesAndTotalEquity': 258848000000, 'totalInvestments': 123684000000, 'totalDebt': 81808000000, 'netDebt': 69862000000, 'link': 'https://www.sec.gov/Archives/edgar/data/789019/000156459018019062/0001564590-18-019062-index.htm', 'finalLink': 'https://www.sec.gov/Archives/edgar/data/789019/000156459018019062/msft-10k_20180630.htm'}, {'date': '2017-06-30', 'symbol': 'MSFT', 'reportedCurrency': 'USD', 'cik': '0000789019', 'fillingDate': '2017-08-02', 'acceptedDate': '2017-08-02 16:15:01', 'calendarYear': '2017', 'period': 'FY', 'cashAndCashEquivalents': 7663000000, 'shortTermInvestments': 125318000000, 'cashAndShortTermInvestments': 132981000000, 'netReceivables': 19792000000, 'inventory': 2181000000, 'otherCurrentAssets': 4897000000, 'totalCurrentAssets': 159851000000, 'propertyPlantEquipmentNet': 23734000000, 'goodwill': 35122000000, 'intangibleAssets': 10106000000, 'goodwillAndIntangibleAssets': 45228000000, 'longTermInvestments': 6023000000, 'taxAssets': 0.0, 'otherNonCurrentAssets': 6250000000, 'totalNonCurrentAssets': 81235000000, 'otherAssets': 0.0, 'totalAssets': 241086000000, 'accountPayables': 7390000000, 'shortTermDebt': 10121000000, 'taxPayables': 718000000, 'deferredRevenue': 34102000000, 'otherCurrentLiabilities': 12914000000, 'totalCurrentLiabilities': 64527000000, 'longTermDebt': 76073000000, 'deferredRevenueNonCurrent': 10377000000, 'deferredTaxLiabilitiesNonCurrent': 531000000, 'otherNonCurrentLiabilities': 17184000000, 'totalNonCurrentLiabilities': 104165000000, 'otherLiabilities': 0.0, 'capitalLeaseObligations': 0.0, 'totalLiabilities': 168692000000, 'preferredStock': 0.0, 'commonStock': 69315000000, 'retainedEarnings': 2648000000, 'accumulatedOtherComprehensiveIncomeLoss': 431000000, 'othertotalStockholdersEquity': 0.0, 'totalStockholdersEquity': 72394000000, 'totalLiabilitiesAndStockholdersEquity': 241086000000, 'minorityInterest': 0, 'totalEquity': 72394000000, 'totalLiabilitiesAndTotalEquity': 241086000000, 'totalInvestments': 131341000000, 'totalDebt': 86194000000, 'netDebt': 78531000000, 'link': 'https://www.sec.gov/Archives/edgar/data/789019/000156459017014900/0001564590-17-014900-index.htm', 'finalLink': 'https://www.sec.gov/Archives/edgar/data/789019/000156459017014900/msft-10k_20170630.htm'}]\n"
          ]
        }
      ]
    },
    {
      "cell_type": "code",
      "source": [
        "#the numbers from the two most recent years\n",
        "twoYearBalanceStatement= [balanceStatements[2],balanceStatements[0]]\n",
        "twoYearIncomeStatement = [incomeStatements[2],incomeStatements[0]]"
      ],
      "metadata": {
        "id": "AWsfaAwZlw83"
      },
      "execution_count": 10,
      "outputs": []
    },
    {
      "cell_type": "code",
      "source": [
        "\n",
        "#calculate profitability, assetTurnover, and capitalstructure\n",
        "profitability=[]\n",
        "assetTurnOver=[]\n",
        "capitalStructure=[]\n",
        "returnOnEquity=[]\n",
        "dates =[]\n",
        "#gettting details\n",
        "for i in range (0,2):\n",
        "   profitabilityValue = twoYearIncomeStatement[i]['netIncome']/twoYearIncomeStatement[i]['revenue']\n",
        "   profitability. append(profitabilityValue)\n",
        "   assetTurnOverValue= twoYearIncomeStatement[i]['revenue']/twoYearBalanceStatement[i]['totalAssets']\n",
        "   assetTurnOver.append(assetTurnOverValue)\n",
        "   capitalStructureValue=twoYearBalanceStatement[i]['totalAssets']/twoYearBalanceStatement[i]['totalStockholdersEquity']\n",
        "   capitalStructure.append(capitalStructureValue)\n",
        "   returnOnEquityValue=profitabilityValue * assetTurnOverValue * capitalStructureValue\n",
        "   returnOnEquity.append(returnOnEquityValue)\n",
        "   dates.append(twoYearIncomeStatement[i]['date'])\n",
        "\n",
        "  "
      ],
      "metadata": {
        "id": "XKiN8q8QkMCw"
      },
      "execution_count": 11,
      "outputs": []
    },
    {
      "cell_type": "code",
      "source": [
        "print(returnOnEquity)\n",
        "print(dates)\n",
        "\n"
      ],
      "metadata": {
        "colab": {
          "base_uri": "https://localhost:8080/"
        },
        "id": "SUcurgKbn8qe",
        "outputId": "7f07e353-1e75-486e-9236-dc87d912564a"
      },
      "execution_count": 21,
      "outputs": [
        {
          "output_type": "stream",
          "name": "stdout",
          "text": [
            "[0.3834652594547054, 0.4315223821731414]\n",
            "['2019-06-30', '2021-06-30']\n"
          ]
        }
      ]
    },
    {
      "cell_type": "code",
      "source": [
        "plt.bar(dates,returnOnEquity, alpha=1)\n",
        "plt.xlabel('Dates')\n",
        "plt.ylabel('Return On Equity')\n",
        "plt.title('Microsoft')\n",
        "plt.show()\n",
        "\n"
      ],
      "metadata": {
        "colab": {
          "base_uri": "https://localhost:8080/",
          "height": 295
        },
        "id": "-Ii_E_Q7s1zf",
        "outputId": "eb37961f-b86b-4028-d3a0-60ca6a606ca8"
      },
      "execution_count": 29,
      "outputs": [
        {
          "output_type": "display_data",
          "data": {
            "text/plain": [
              "<Figure size 432x288 with 1 Axes>"
            ],
            "image/png": "[encoded data removed]"
          },
          "metadata": {
            "needs_background": "light"
          }
        }
      ]
    }
  ]
}