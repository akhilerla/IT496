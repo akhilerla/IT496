{
  "nbformat": 4,
  "nbformat_minor": 0,
  "metadata": {
    "colab": {
      "name": " AKhil_E-A4- Pareto Chart of Top for IT Skills/Competencies.ipynb",
      "provenance": [],
      "collapsed_sections": [],
      "include_colab_link": true
    },
    "kernelspec": {
      "name": "python3",
      "display_name": "Python 3"
    },
    "language_info": {
      "name": "python"
    }
  },
  "cells": [
    {
      "cell_type": "markdown",
      "metadata": {
        "id": "view-in-github",
        "colab_type": "text"
      },
      "source": [
        "<a href=\"https://colab.research.google.com/github/akhilerla/IT496/blob/main/AKhil_E_A4_Pareto_Chart_of_Top_for_IT_Skills_Competencies.ipynb\" target=\"_parent\"><img src=\"https://colab.research.google.com/assets/colab-badge.svg\" alt=\"Open In Colab\"/></a>"
      ]
    },
    {
      "cell_type": "code",
      "source": [
        "from google.colab import drive\n",
        "drive.mount('/content/drive')"
      ],
      "metadata": {
        "id": "JtqBh1zLyzs-",
        "colab": {
          "base_uri": "https://localhost:8080/"
        },
        "outputId": "e0993022-1f25-4219-defe-be4ff356cb94"
      },
      "execution_count": 5,
      "outputs": [
        {
          "output_type": "stream",
          "name": "stdout",
          "text": [
            "Drive already mounted at /content/drive; to attempt to forcibly remount, call drive.mount(\"/content/drive\", force_remount=True).\n"
          ]
        }
      ]
    },
    {
      "cell_type": "code",
      "execution_count": 6,
      "metadata": {
        "colab": {
          "base_uri": "https://localhost:8080/"
        },
        "id": "UK4R7uRap9P2",
        "outputId": "694f3540-e216-43cf-a362-79863fe4a42a"
      },
      "outputs": [
        {
          "output_type": "stream",
          "name": "stdout",
          "text": [
            "                  skills  frequency\n",
            "0           data science         80\n",
            "1       Machine learning         76\n",
            "2   Frontend development          7\n",
            "3    Backend development          6\n",
            "4                 Devops          8\n",
            "5                     AI          8\n",
            "6                Bigdata          7\n",
            "7             salesforce          2\n",
            "8                     VR          1\n",
            "9  Block Chain developer          1\n"
          ]
        }
      ],
      "source": [
        "import pandas  as pd\n",
        "import matplotlib.pyplot as plt\n",
        "from matplotlib.ticker import PercentFormatter\n",
        "df = pd.read_csv(\"/content/drive/MyDrive/Skills.csv\")\n",
        "print(df)"
      ]
    },
    {
      "cell_type": "code",
      "source": [
        "df.index = df['skills']\n",
        "df = df.sort_values(by= 'frequency' ,ascending = False)\n",
        "print(df)"
      ],
      "metadata": {
        "colab": {
          "base_uri": "https://localhost:8080/"
        },
        "id": "SYdONkx2r1fx",
        "outputId": "d59ae750-7f42-4a08-f2a2-89fd51589951"
      },
      "execution_count": 7,
      "outputs": [
        {
          "output_type": "stream",
          "name": "stdout",
          "text": [
            "                                      skills  frequency\n",
            "skills                                                 \n",
            "data science                    data science         80\n",
            "Machine learning            Machine learning         76\n",
            "Devops                                Devops          8\n",
            "AI                                        AI          8\n",
            "Frontend development    Frontend development          7\n",
            "Bigdata                              Bigdata          7\n",
            "Backend development      Backend development          6\n",
            "salesforce                        salesforce          2\n",
            "VR                                        VR          1\n",
            "Block Chain developer  Block Chain developer          1\n"
          ]
        }
      ]
    },
    {
      "cell_type": "code",
      "source": [
        ""
      ],
      "metadata": {
        "id": "co6WJ8BZS6Uo"
      },
      "execution_count": null,
      "outputs": []
    },
    {
      "cell_type": "code",
      "source": [
        "df[\"cumulativePercentage\"] = df[\"frequency\"].cumsum()/df[\"frequency\"].sum()*100\n",
        "df[\"cumulativePercentage\"] = df[\"cumulativePercentage\"].apply(lambda x:round(x,2))\n",
        "print(df)"
      ],
      "metadata": {
        "colab": {
          "base_uri": "https://localhost:8080/"
        },
        "id": "mH6IyVr7sn4L",
        "outputId": "19366b7d-6c70-414c-8ee7-02f1ee53bf28"
      },
      "execution_count": 8,
      "outputs": [
        {
          "output_type": "stream",
          "name": "stdout",
          "text": [
            "                                      skills  frequency  cumulativePercentage\n",
            "skills                                                                       \n",
            "data science                    data science         80                 40.82\n",
            "Machine learning            Machine learning         76                 79.59\n",
            "Devops                                Devops          8                 83.67\n",
            "AI                                        AI          8                 87.76\n",
            "Frontend development    Frontend development          7                 91.33\n",
            "Bigdata                              Bigdata          7                 94.90\n",
            "Backend development      Backend development          6                 97.96\n",
            "salesforce                        salesforce          2                 98.98\n",
            "VR                                        VR          1                 99.49\n",
            "Block Chain developer  Block Chain developer          1                100.00\n"
          ]
        }
      ]
    },
    {
      "cell_type": "code",
      "source": [
        "fig, ax = plt.subplots()\n",
        "ax.bar(df.index, df[\"frequency\"], color=\"C0\")\n",
        "ax.set_xticklabels(df['skills'], rotation=90)\n",
        "ax2=ax.twinx()\n",
        "ax2.plot(df.index, df[\"cumulativePercentage\"], color=\"C1\", marker=\"D\", ms=7, label = df['cumulativePercentage'])\n",
        "ax2.yaxis.set_major_formatter(PercentFormatter())\n",
        "ax.tick_params(axis=\"y\", colors=\"C0\")\n",
        "ax2.tick_params(axis=\"y\", colors=\"C1\")\n",
        "\n",
        "for index, v in df.iterrows():\n",
        "  label = round(v['cumulativePercentage'],1)\n",
        "  plt.annotate(label, xy =(v['skills'],v['cumulativePercentage']))\n",
        "\n",
        "plt.show()"
      ],
      "metadata": {
        "colab": {
          "base_uri": "https://localhost:8080/",
          "height": 368
        },
        "id": "plk1sJylyuqv",
        "outputId": "19b1ed2b-4161-420b-e8c9-fddd51a8bb47"
      },
      "execution_count": 9,
      "outputs": [
        {
          "output_type": "display_data",
          "data": {
            "text/plain": [
              "<Figure size 432x288 with 2 Axes>"
            ],
            "image/png": "[encoded data removed]"
          },
          "metadata": {}
        }
      ]
    }
  ]
}